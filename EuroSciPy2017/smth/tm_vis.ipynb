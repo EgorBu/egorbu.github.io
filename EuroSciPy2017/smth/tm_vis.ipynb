{
 "cells": [
  {
   "cell_type": "code",
   "execution_count": 1,
   "metadata": {},
   "outputs": [
    {
     "ename": "NameError",
     "evalue": "name 'robot_text' is not defined",
     "output_type": "error",
     "traceback": [
      "\u001b[0;31m---------------------------------------------------------------------------\u001b[0m",
      "\u001b[0;31mNameError\u001b[0m                                 Traceback (most recent call last)",
      "\u001b[0;32m<ipython-input-1-8f9d44c99445>\u001b[0m in \u001b[0;36m<module>\u001b[0;34m()\u001b[0m\n\u001b[1;32m     38\u001b[0m                font_step=100, relative_scaling=1)\n\u001b[1;32m     39\u001b[0m \u001b[0;31m# generate word cloud\u001b[0m\u001b[0;34m\u001b[0m\u001b[0;34m\u001b[0m\u001b[0m\n\u001b[0;32m---> 40\u001b[0;31m \u001b[0mwc\u001b[0m\u001b[0;34m.\u001b[0m\u001b[0mgenerate\u001b[0m\u001b[0;34m(\u001b[0m\u001b[0mrobot_text\u001b[0m\u001b[0;34m)\u001b[0m\u001b[0;34m\u001b[0m\u001b[0m\n\u001b[0m\u001b[1;32m     41\u001b[0m \u001b[0;34m\u001b[0m\u001b[0m\n\u001b[1;32m     42\u001b[0m \u001b[0;31m# store to file\u001b[0m\u001b[0;34m\u001b[0m\u001b[0;34m\u001b[0m\u001b[0m\n",
      "\u001b[0;31mNameError\u001b[0m: name 'robot_text' is not defined"
     ]
    }
   ],
   "source": [
    "#!/usr/bin/env python\n",
    "\"\"\"\n",
    "Masked wordcloud\n",
    "================\n",
    "\n",
    "Using a mask you can generate wordclouds in arbitrary shapes.\n",
    "\"\"\"\n",
    "\n",
    "from os import path\n",
    "\n",
    "import matplotlib.pyplot as plt\n",
    "import numpy as np\n",
    "from PIL import Image\n",
    "import PIL.ImageOps\n",
    "from wordcloud import WordCloud, STOPWORDS\n",
    "\n",
    "\n",
    "\n",
    "# Read the whole text.\n",
    "text = open('bender.txt').read()\n",
    "\n",
    "image = Image.open(\"bender2.png\")\n",
    "sz = image.size\n",
    "scaling_factor = 5\n",
    "new_sz = [size * scaling_factor for size in sz]\n",
    "image = image.resize(new_sz)\n",
    "# image = PIL.ImageOps.invert(image)\n",
    "\n",
    "# read the mask image\n",
    "# taken from\n",
    "# http://www.stencilry.org/stencils/movies/alice%20in%20wonderland/255fk.jpg\n",
    "alice_mask = np.array(image)\n",
    "stopwords = set(STOPWORDS)\n",
    "stopwords.add(\"said\")\n",
    "\n",
    "wc = WordCloud(background_color=\"white\", max_words=2000, mask=alice_mask,\n",
    "               stopwords=stopwords, min_font_size=1, max_font_size=10000, mode=\"RGBA\",\n",
    "               font_step=100, relative_scaling=1)\n",
    "# generate word cloud\n",
    "wc.generate(robot_text)\n",
    "\n",
    "# store to file\n",
    "wc.to_file(\"bender_txt.png\")\n",
    "\n",
    "print(wc.shape)\n",
    "\n",
    "# show\n",
    "plt.imshow(wc, interpolation='bilinear')\n",
    "plt.axis(\"off\")\n",
    "plt.figure()\n",
    "plt.imshow(alice_mask, cmap=plt.cm.gray)\n",
    "plt.axis(\"off\")\n",
    "plt.show()"
   ]
  },
  {
   "cell_type": "code",
   "execution_count": 111,
   "metadata": {},
   "outputs": [
    {
     "data": {
      "text/plain": [
       "(3165, 1740, 4)"
      ]
     },
     "execution_count": 111,
     "metadata": {},
     "output_type": "execute_result"
    }
   ],
   "source": [
    "np.asarray(wc.to_image()).shape"
   ]
  },
  {
   "cell_type": "code",
   "execution_count": 2,
   "metadata": {
    "collapsed": true
   },
   "outputs": [],
   "source": [
    "def get_topic_text(topic_num, topic_file=\"labeling.txt\"):\n",
    "    topic_str = \"Topic #%d\\n\" % topic_num\n",
    "    topic_str2 = \"Topic #\"\n",
    "    with open(topic_file) as f:\n",
    "        text = f.read()\n",
    "        start = text.find(topic_str)\n",
    "        end = text.find(topic_str2, start + len(topic_str))\n",
    "        \n",
    "        if end == -1:\n",
    "            text = text[start:]\n",
    "        else:\n",
    "            text = text[start:end]\n",
    "        \n",
    "        text = text.split(\"\\n\")[2:-2]\n",
    "        \n",
    "        inter_res = []\n",
    "        min_val = 10 ** 20\n",
    "        for line in text:\n",
    "            toks = line.split()\n",
    "            if len(toks) < 3:\n",
    "                continue\n",
    "            min_val = min(min_val, float(toks[1]))\n",
    "            inter_res.append([toks[0], float(toks[1])])\n",
    "        \n",
    "        print(\"number of words:\", len(inter_res))\n",
    "        \n",
    "        for i in range(len(inter_res)):\n",
    "            inter_res[i] = [inter_res[i][0], int(inter_res[i][1] / min_val)]\n",
    "        \n",
    "        final = []\n",
    "        for line in inter_res:\n",
    "            final.extend([line[0]] * line[1])\n",
    "        return \" \".join(final)\n",
    "            "
   ]
  },
  {
   "cell_type": "code",
   "execution_count": 112,
   "metadata": {},
   "outputs": [
    {
     "name": "stdout",
     "output_type": "stream",
     "text": [
      "number of words: 50\n",
      "pose pose pose pose ros ros ros ros joint joint joint robot robot robot msgs msgs msgs publish publish trajectori trajectori rospy rospy sensor sensor cmake catkin vel stamp goal arm actuat twist subscrib planner pub yaw veloc preinstal librari pcl xyz poses eigen cloud quaternion torqu spin laser obstacl traj sonar geometri endif ibrari advertis msg loginfo ctarget orient odometri transform endforeach visual boost theta\n"
     ]
    }
   ],
   "source": [
    "robot_text = get_topic_text(151)\n",
    "print(robot_text)"
   ]
  },
  {
   "cell_type": "code",
   "execution_count": 115,
   "metadata": {},
   "outputs": [
    {
     "name": "stdout",
     "output_type": "stream",
     "text": [
      "number of words: 50\n"
     ]
    },
    {
     "data": {
      "text/plain": [
       "'sprint sprint sprint sprint sprint sprint shp shp shp shp shp raster raster raster raster raster river river river river srs srs srs srs ysize ysize ysize xsize xsize xsize shapefil shapefil shapefil ogr ogr band band gdal gdal bro bro dbf dbf spatial spatial cbk cbk wkb wkb xcell xcell wkt wkt utm utm geom ycell aster cpl osr osgeo dem bands nrecord proj nodata tcod uly mario ulx defn evo bsp csl gcp geth termbox shx srid axon elev rast ring amber tubes lrx'"
      ]
     },
     "execution_count": 115,
     "metadata": {},
     "output_type": "execute_result"
    }
   ],
   "source": [
    "get_topic_text(68)"
   ]
  },
  {
   "cell_type": "code",
   "execution_count": 117,
   "metadata": {},
   "outputs": [
    {
     "name": "stdout",
     "output_type": "stream",
     "text": [
      "number of words: 50\n",
      "number of words: 50\n",
      "sprint sprint sprint sprint sprint sprint shp shp shp shp shp raster raster raster raster raster river river river river srs srs srs srs ysize ysize ysize xsize xsize xsize shapefil shapefil shapefil ogr ogr band band gdal gdal bro bro dbf dbf spatial spatial cbk cbk wkb wkb xcell xcell wkt wkt utm utm geom ycell aster cpl osr osgeo dem bands nrecord proj nodata tcod uly mario ulx defn evo bsp csl gcp geth termbox shx srid axon elev rast ring amber tubes lrxlat lat lat lat lat lat lat lat lat lat lng lng lng lng lng lng lng marker marker marker marker marker marker marker latitud latitud latitud latitud latitud latitud longitud longitud longitud longitud longitud longitud maps maps maps maps maps geo geo geo geo geo lon lon lon lon geocod geocod geocod geocod googl googl googl zoom zoom zoom layer layer layer geometri geometri polylin polylin latlng latlng coord coord coordin coordin locat locat polygon polygon overlay overlay geoloc geoloc point place map distanc cluster featur center tile gps bound loc pan onmap project tolat kml accuraci icon waypoint radius gmap meter infowindow north lngs east gmaps stroke poly\n"
     ]
    }
   ],
   "source": [
    "geo_text = get_topic_text(68)\n",
    "geo_text += get_topic_text(211)\n",
    "print(geo_text)"
   ]
  },
  {
   "cell_type": "code",
   "execution_count": 3,
   "metadata": {},
   "outputs": [
    {
     "name": "stdout",
     "output_type": "stream",
     "text": [
      "number of words: 50\n",
      "number of words: 50\n",
      "number of words: 50\n",
      "sprint sprint sprint sprint sprint sprint shp shp shp shp shp raster raster raster raster raster river river river river srs srs srs srs ysize ysize ysize xsize xsize xsize shapefil shapefil shapefil ogr ogr band band gdal gdal bro bro dbf dbf spatial spatial cbk cbk wkb wkb xcell xcell wkt wkt utm utm geom ycell aster cpl osr osgeo dem bands nrecord proj nodata tcod uly mario ulx defn evo bsp csl gcp geth termbox shx srid axon elev rast ring amber tubes lrxlat lat lat lat lat lat lat lat lat lat lng lng lng lng lng lng lng marker marker marker marker marker marker marker latitud latitud latitud latitud latitud latitud longitud longitud longitud longitud longitud longitud maps maps maps maps maps geo geo geo geo geo lon lon lon lon geocod geocod geocod geocod googl googl googl zoom zoom zoom layer layer layer geometri geometri polylin polylin latlng latlng coord coord coordin coordin locat locat polygon polygon overlay overlay geoloc geoloc point place map distanc cluster featur center tile gps bound loc pan onmap project tolat kml accuraci icon waypoint radius gmap meter infowindow north lngs east gmaps stroke polycity city city city city city city city city city city city city city city city city city countri countri countri countri countri countri countri countri countri countri countri countri countri countri countri station station station station station station station station station street street street street street street citi citi citi citi citi citi house house house house house provinc provinc provinc provinc region region region counti counti counti district district district gwt gwt gwt park park park address address address road road postal postal town town rent rent tour tour zipcod zipcod zip zip googl googl incid incid contin contin rental rental area place hous bike client phone vaadin panel postcod state widget apart lot neighborhood rpc share bus com responc uibind land code offic garag caught servic\n"
     ]
    }
   ],
   "source": [
    "geo_text = get_topic_text(68)\n",
    "geo_text += get_topic_text(211)\n",
    "geo_text += get_topic_text(181)\n",
    "print(geo_text)"
   ]
  },
  {
   "cell_type": "code",
   "execution_count": 4,
   "metadata": {},
   "outputs": [
    {
     "name": "stdout",
     "output_type": "stream",
     "text": [
      "number of words: 50\n",
      "number of words: 50\n",
      "number of words: 50\n",
      "number of words: 50\n",
      "number of words: 50\n",
      "number of words: 50\n",
      "three three three three three three three three three two two two two two two two two four four four four four four four five five five five five five winner winner winner winner winner winner one one one one ten ten ten ten wins wins wins wins six six six seven seven seven eight eight eight outcom outcom outcom win win win bet bet bet sport sport sport nine nine club club tournament tournament race race tac tac tic tic stand stand challeng contest loss loser toe prize judge award twenti won tie player lap round hundr total score pot money tally ttt lose odds number chips chip streak boatattack attack attack attack attack attack attack attack skill skill skill skill skill skill equip equip equip equip weapon weapon weapon weapon damag damag damag damag monster monster monster battl battl battl abil abil armor armor defens defens fight fight combat combat creatur creatur heal heal defend defend health health npc npc quest quest spell shield inventori strength bonus mana atk charact cost faction effect gold race warrior poison fighter treasur enemy dungeon resist dmg dragon loot chanc melee potion stats sword magic defenc slot intelliggame game game game game game game game game game game game game game game game game game player player player player player player player player player player player player player player player player player score score score score score score score score score score score score score score score team team team team team team team team team team turn turn turn turn turn turn games games games games games games food food food food food teams teams teams teams play play play goal goal goal random random oppon oppon snake snake difficulti difficulti winner winner bonus bonus human human spot spot over goals win move won turns drink leagu meal away point calori place ships easy eat round ofplay isgam rand choic stats posit rock current spots competit foods next victori state losecolour colour colour colour colour colour colour colour colour colour colour colour colour colour colour colour colour colour colour colour particl particl particl particl particl particl particl particl wall wall wall wall wall wall wall ghost ghost ghost ghost ghost ghost act act act act act reward reward reward reward reward replay replay replay replay replay maxx maxx maxx maxx minx minx minx minx targ targ targ targ maxy maxy maxy maxy miny miny miny miny crash crash crash eye eye eye agent agent agent walls walls packer packer comps comps locs locs eyes eyes pac pac mouth mouth toy toy pacman pacman isdon isdon cent merger lay evnt capsul pupil ofact reel loc meme iswal rlist action pill tox mbr direct dupes coord eaten nose state crafti slip qvalucell cell cell cell cell cell cell cell cell cell cell cell cell cell cell cell cell cell cell cell cell cells cells cells cells cells cells cells cells cells cells cells cells cells cells cells cells cells cells cells cells east east east east east east east east east east east north north north north north north north north north north north west west west west west west west west west west west south south south south south south south south south puzzl puzzl puzzl puzzl puzzl puzzl puzzl puzzl puzzl maze maze maze maze maze maze maze maze solve solve solve solve solve solve solve solve solv solv solv solv solv solv solv solut solut solut solut solut solver solver solver solver solver grid grid grid grid grid row row row row row sudoku sudoku sudoku sudoku sudoku col col col col inrow inrow inrow tape tape tape rows rows cols cols grids grids poss poss issolv issolv clue clue possibl cir wall column ofcel direct squar acm glabel incolumn ams cage clues tocel unsolv gimag cups southeast gline gobj jax incol tee solvabl marbl northwestsprite sprite sprite sprite sprite sprite game game game game game tile tile tile tile collis collis collis enemy enemy enemy tiles tiles tiles collid collid textur textur bullet bullet speed speed player player veloc veloc health life shoot dead world hit jump anim move spawn physic particl explos enemi score ground wall scene damag vel fire graphic movement down press ball level projectil vector ship xna lives bomb sound alive camera iskey entiti\n"
     ]
    }
   ],
   "source": [
    "game_text = get_topic_text(299)\n",
    "game_text += get_topic_text(305)\n",
    "game_text += get_topic_text(185)\n",
    "game_text += get_topic_text(25)\n",
    "game_text += get_topic_text(208)\n",
    "game_text += get_topic_text(44)\n",
    "print(game_text)"
   ]
  },
  {
   "cell_type": "code",
   "execution_count": 120,
   "metadata": {},
   "outputs": [
    {
     "name": "stdout",
     "output_type": "stream",
     "text": [
      "number of words: 50\n",
      "number of words: 50\n",
      "number of words: 50\n",
      "number of words: 50\n",
      "number of words: 50\n",
      "galleri galleri galleri galleri galleri galleri pusher pusher isotop isotop masonri masonri stick stick sticki sticki brick brick anim anim onhid dimmer superfish onshow sidebar arrow fit transit pppic ppimag autoplay vimeo modal ppt dores ytplayer hover ssc pptitl accordion uncheck dimmabl portfolio ppdimens toinject isplain gal smartres popup oninit invok bcclass video prefil byrow teaser movie dim testimoni metadata onresult waypointstructp structp structp bytep bytep bytep infop infop splt splt charp charp pngarg rowbyt png gama pcal pngapi ama interlac libpng scal hrm chrm bytepp mng textp serialno ihdr infopp togray ioptr colorp voidp iccp plte charpp oggpack sbit idat jmpbuf heurist timep rns palett trns submap kgd bkgd proflen rwptr packswap dsp gamma spalett vorbi chunkppsz psz szname szname szfile szfile pbuffer nret bret pbuf sztemp pdata cinfo nsize szbuffer szvalu psession upsampl szdata jdimens nlen jpp ncount uindex szbuf jerr jmessag jcommon mcu downsampl pnext dctsize szkey jdecompress pmsg pnet jcompress tbls szpath errexit iret jcs pcur inscan mgr szstring sztext szline psrc compptr szmsg nport pbufftrial trial trial trial trial trial trial trial trial stim stim stim stimulus stimulus magick magick mosaic mosaic getpixel getpixel pixel pixel pil pil putpixel putpixel roi roi crop crop fixat stimuli histogram spike contrast imag pxl tiff resampl timepoint montag colormap gimp ncolor chops channel ysize lut getcolor wand png xsize dither kiss imout enhanc bmp dopop spk dpi extrema electrod rgb ntrial eeg transpar ghostscript putdata stimulmat mat mat contour contour contour ipl ipl bgr bgr cvt cvt roi roi keypoint opencv thresh img cvcreat cvpoint imshow detect imread gray cvmat dilat cvreleas detector scalar canny cvsize imwrit cvcap cvget pyr cvbgr cvload hist cols uchar captur warp camera dispar haar cvrgb hsv cvscalar sobel hough threshold descriptor retr cvset dst approx erode channel\n"
     ]
    }
   ],
   "source": [
    "im_text = get_topic_text(113)\n",
    "im_text += get_topic_text(22)\n",
    "im_text += get_topic_text(28)\n",
    "im_text += get_topic_text(278)\n",
    "im_text += get_topic_text(12)\n",
    "print(im_text)"
   ]
  },
  {
   "cell_type": "code",
   "execution_count": null,
   "metadata": {
    "collapsed": true
   },
   "outputs": [],
   "source": [
    "def make_word_cloud(text, mask_loc, save_loc, scaling_factor=1, invert_image=False):\n",
    "    image = Image.open(mask_loc)\n",
    "    \n",
    "    if scaling_factor != 1:\n",
    "        sz = image.size\n",
    "        new_sz = [size * scaling_factor for size in sz]\n",
    "        image = image.resize(new_sz)\n",
    "    if invert_image:\n",
    "        image = PIL.ImageOps.invert(image)\n",
    "        \n",
    "    mask = np.array(image)\n",
    "    stopwords = set(STOPWORDS)\n",
    "\n",
    "    wc = WordCloud(background_color=\"white\", max_words=2000, mask=mask,\n",
    "                   stopwords=stopwords, min_font_size=1, max_font_size=10000, mode=\"RGBA\",\n",
    "                   font_step=100, relative_scaling=1)\n",
    "    # generate word cloud\n",
    "    wc.generate(robot_text)\n",
    "\n",
    "    # store to file\n",
    "    wc.to_file(\"bender_txt.png\")\n",
    "\n",
    "    print(wc.shape)\n",
    "\n",
    "    # show\n",
    "    plt.imshow(wc, interpolation='bilinear')\n",
    "    plt.axis(\"off\")\n",
    "    plt.figure()\n",
    "    plt.imshow(alice_mask, cmap=plt.cm.gray)\n",
    "    plt.axis(\"off\")\n",
    "    plt.show()"
   ]
  }
 ],
 "metadata": {
  "kernelspec": {
   "display_name": "Python 3",
   "language": "python",
   "name": "python3"
  },
  "language_info": {
   "codemirror_mode": {
    "name": "ipython",
    "version": 3
   },
   "file_extension": ".py",
   "mimetype": "text/x-python",
   "name": "python",
   "nbconvert_exporter": "python",
   "pygments_lexer": "ipython3",
   "version": "3.5.2"
  }
 },
 "nbformat": 4,
 "nbformat_minor": 2
}
