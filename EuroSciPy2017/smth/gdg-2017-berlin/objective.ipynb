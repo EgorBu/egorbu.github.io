{
 "cells": [
  {
   "cell_type": "code",
   "execution_count": 1,
   "metadata": {
    "collapsed": false
   },
   "outputs": [
    {
     "name": "stdout",
     "output_type": "stream",
     "text": [
      "Populating the interactive namespace from numpy and matplotlib\n"
     ]
    }
   ],
   "source": [
    "%pylab inline"
   ]
  },
  {
   "cell_type": "code",
   "execution_count": 2,
   "metadata": {
    "collapsed": true
   },
   "outputs": [],
   "source": [
    "from datetime import datetime"
   ]
  },
  {
   "cell_type": "code",
   "execution_count": 19,
   "metadata": {
    "collapsed": false
   },
   "outputs": [
    {
     "data": {
      "image/png": "[encoded data removed]",
      "text/plain": [
       "<matplotlib.figure.Figure at 0x7f01920be588>"
      ]
     },
     "metadata": {},
     "output_type": "display_data"
    }
   ],
   "source": [
    "y = [[3, 3, 2], [0, 3, 2], [0, 0, 3]]\n",
    "x = [datetime(year=2014 + i, month=1, day=1) for i in range(3)]\n",
    "stackplot(x, y, colors=[\"#CB8C1D\", \"#F1684E\", \"#4EB1BA\"])\n",
    "gca().xaxis.set_major_locator(matplotlib.dates.YearLocator())\n",
    "xlim( [datetime(year=2014 + i * 2, month=1, day=1) for i in range(2)])\n",
    "ylim(0, 7)\n",
    "ylabel(\"Lines\")\n",
    "xlabel(\"Time\")\n",
    "gca().spines[\"bottom\"].set_color(\"white\")\n",
    "gca().spines[\"top\"].set_color(\"white\")\n",
    "gca().spines[\"left\"].set_color(\"white\")\n",
    "gca().spines[\"right\"].set_color(\"white\")\n",
    "gca().yaxis.label.set_color(\"white\")\n",
    "gca().xaxis.label.set_color(\"white\")\n",
    "gca().tick_params(axis=\"x\", colors=\"white\")\n",
    "gca().tick_params(axis=\"y\", colors=\"white\")\n",
    "savefig(\"pictures/objective.svg\", transparent=True)"
   ]
  },
  {
   "cell_type": "code",
   "execution_count": null,
   "metadata": {
    "collapsed": true
   },
   "outputs": [],
   "source": [
    ""
   ]
  }
 ],
 "metadata": {
  "kernelspec": {
   "display_name": "Python 3",
   "language": "python",
   "name": "python3"
  },
  "language_info": {
   "codemirror_mode": {
    "name": "ipython",
    "version": 3.0
   },
   "file_extension": ".py",
   "mimetype": "text/x-python",
   "name": "python",
   "nbconvert_exporter": "python",
   "pygments_lexer": "ipython3",
   "version": "3.5.2"
  }
 },
 "nbformat": 4,
 "nbformat_minor": 0
}